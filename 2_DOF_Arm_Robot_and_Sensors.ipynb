{
  "cells": [
    {
      "cell_type": "markdown",
      "metadata": {
        "id": "view-in-github",
        "colab_type": "text"
      },
      "source": [
        "<a href=\"https://colab.research.google.com/github/FatemehNMT/MyROS/blob/main/2_DOF_Arm_Robot_and_Sensors.ipynb\" target=\"_parent\"><img src=\"https://colab.research.google.com/assets/colab-badge.svg\" alt=\"Open In Colab\"/></a>"
      ]
    },
    {
      "cell_type": "markdown",
      "metadata": {
        "id": "H2SIhwdtBPQU"
      },
      "source": [
        "2-DOF Arm Robot and Sensors:"
      ]
    },
    {
      "cell_type": "markdown",
      "metadata": {
        "id": "OPdgbCXaBPQX"
      },
      "source": [
        "1. Generate a based moving robot (base_link).\n",
        "2. Set a 2-DOF arm on it(arm_joint1 and arm_joint2).\n",
        "3. Put a sensor (camera or laser) at the end of the arm (camera_link).\n",
        "4. Broadcast tf (tf broadcaster)\n",
        "5. Define  and send out different frames (base_link, arm_joint1, arm_joint2, camera_link, object_frame).\n",
        "6. Represent tf-tree applying rqt_tf_tree.\n",
        "7. Apply tf listener to measure the distance of object's location relevant to the base or the camera.\n",
        "8. Apply lookup_transform.\n",
        "9. Present all the results in RViz with axes and markers."
      ]
    },
    {
      "cell_type": "markdown",
      "metadata": {
        "id": "ODegkWNLBPQY"
      },
      "source": [
        "Project Structure:\n",
        "\n",
        "my_tf_demo/\n",
        "├── urdf/\n",
        "│   └── robot_with_arm.urdf.xacro\n",
        "├── launch/\n",
        "│   ├── display.launch\n",
        "│   ├── gazebo.launch\n",
        "│   └── tf_demo.launch\n",
        "├── scripts/\n",
        "│   ├── tf_broadcaster.py\n",
        "│   └── tf_listener.py\n",
        "└── CMakeLists.txt\n",
        "└── package.xml"
      ]
    },
    {
      "cell_type": "code",
      "execution_count": null,
      "metadata": {
        "id": "gZ3mww-VBPQY"
      },
      "outputs": [],
      "source": [
        "cd simulation_ws/src/\n",
        "catkin_create_pkg my_tf_demo roscpp rospy urdf sensor_msgs std_msgs\n",
        "cd ..\n",
        "catkin_make\n",
        "source devel/setup.bash"
      ]
    },
    {
      "cell_type": "code",
      "execution_count": null,
      "metadata": {
        "id": "vt0g6hn3BPQa"
      },
      "outputs": [],
      "source": [
        "# if we are located in the simulation_ws folder\n",
        "chmod +x src/my_tf_demo/scripts/tf_broadcaster.py\n",
        "chmod +x src/my_tf_demo/scripts/tf_listener.py\n",
        "chmod +x src/my_tf_demo/scripts/gazebo_object_tf.py"
      ]
    },
    {
      "cell_type": "code",
      "execution_count": null,
      "metadata": {
        "id": "0-NaoqdEBPQa"
      },
      "outputs": [],
      "source": [
        "catkin_make"
      ]
    },
    {
      "cell_type": "raw",
      "metadata": {
        "id": "TZdyAtwsBPQa"
      },
      "source": [
        "roscor"
      ]
    },
    {
      "cell_type": "code",
      "execution_count": null,
      "metadata": {
        "id": "fNvaHPPzBPQb"
      },
      "outputs": [],
      "source": [
        "roslaunch my_tf_demo tf_demo.launch"
      ]
    },
    {
      "cell_type": "code",
      "execution_count": null,
      "metadata": {
        "id": "nplIK71zBPQb"
      },
      "outputs": [],
      "source": [
        "rosrun rqt_tf_tree rqt_tf_tree\n",
        "# Savev Image"
      ]
    },
    {
      "cell_type": "code",
      "execution_count": null,
      "metadata": {
        "id": "pA2KNkYaBPQc"
      },
      "outputs": [],
      "source": []
    }
  ],
  "metadata": {
    "kernelspec": {
      "display_name": "Python 2",
      "language": "python",
      "name": "python2"
    },
    "language_info": {
      "codemirror_mode": {
        "name": "ipython",
        "version": 2
      },
      "file_extension": ".py",
      "mimetype": "text/x-python",
      "name": "python",
      "nbconvert_exporter": "python",
      "pygments_lexer": "ipython2",
      "version": "2.7.16"
    },
    "colab": {
      "provenance": [],
      "include_colab_link": true
    }
  },
  "nbformat": 4,
  "nbformat_minor": 0
}