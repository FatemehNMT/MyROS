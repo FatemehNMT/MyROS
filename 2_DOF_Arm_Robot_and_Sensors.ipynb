{
  "cells": [
    {
      "cell_type": "markdown",
      "metadata": {
        "id": "view-in-github",
        "colab_type": "text"
      },
      "source": [
        "<a href=\"https://colab.research.google.com/github/FatemehNMT/MyROS/blob/main/2_DOF_Arm_Robot_and_Sensors.ipynb\" target=\"_parent\"><img src=\"https://colab.research.google.com/assets/colab-badge.svg\" alt=\"Open In Colab\"/></a>"
      ]
    },
    {
      "cell_type": "markdown",
      "metadata": {
        "id": "MP3RCGy3NRm1"
      },
      "source": [
        "2-DOF Arm Robot and Sensors:"
      ]
    },
    {
      "cell_type": "markdown",
      "metadata": {
        "id": "q4RrEOByNRm4"
      },
      "source": [
        "1. Generate a based moving robot (base_link).\n",
        "2. Set a 2-DOF arm on it(arm_joint1 and arm_joint2).\n",
        "3. Put a sensor (camera or laser) at the end of the arm (camera_link).\n",
        "4. Broadcast tf (tf broadcaster)\n",
        "5. Define  and send out different frames (base_link, arm_joint1, arm_joint2, camera_link, object_frame).\n",
        "6. Represent tf-tree applying rqt_tf_tree.\n",
        "7. Apply tf listener to measure the distance of object's location relevant to the base or the camera.\n",
        "8. Apply lookup_transform.\n",
        "9. Present all the results in RViz with axes and markers."
      ]
    },
    {
      "cell_type": "markdown",
      "metadata": {
        "id": "GEwaBGtPNRm4"
      },
      "source": [
        "Project Structure:\n",
        "\n",
        "my_tf_demo/\n",
        "├── urdf/\n",
        "│   └── robot_with_arm.urdf.xacro\n",
        "├── launch/\n",
        "│   ├── display.launch\n",
        "│   ├── gazebo.launch\n",
        "│   └── tf_demo.launch\n",
        "├── scripts/\n",
        "│   ├── tf_broadcaster.py\n",
        "│   └── tf_listener.py\n",
        "└── CMakeLists.txt\n",
        "└── package.xml"
      ]
    },
    {
      "cell_type": "code",
      "execution_count": null,
      "metadata": {
        "id": "FZA27SZlNRm5"
      },
      "outputs": [],
      "source": [
        "cd simulation_ws/src/\n",
        "catkin_create_pkg my_tf_demo roscpp rospy urdf sensor_msgs std_msgs\n",
        "cd ..\n",
        "catkin_make\n",
        "source devel/setup.bash"
      ]
    },
    {
      "cell_type": "code",
      "execution_count": null,
      "metadata": {
        "id": "bBVYZXoMNRm6"
      },
      "outputs": [],
      "source": [
        "# if we are located in the simulation_ws folder\n",
        "chmod +x src/my_tf_demo/scripts/tf_broadcaster.py\n",
        "chmod +x src/my_tf_demo/scripts/tf_listener.py\n",
        "chmod +x src/my_tf_demo/scripts/gazebo_object_tf.py"
      ]
    },
    {
      "cell_type": "code",
      "execution_count": null,
      "metadata": {
        "id": "UfClkuXhNRm6"
      },
      "outputs": [],
      "source": [
        "catkin_make"
      ]
    },
    {
      "cell_type": "raw",
      "metadata": {
        "id": "awk20jeZNRm6"
      },
      "source": [
        "roscor"
      ]
    },
    {
      "cell_type": "markdown",
      "metadata": {
        "id": "zoTP0RdQNRm7"
      },
      "source": [
        "## **Step 1**"
      ]
    },
    {
      "cell_type": "markdown",
      "metadata": {
        "id": "aGOge7AfNRm7"
      },
      "source": [
        "urdf/robot_with_arm.urdf.xacro"
      ]
    },
    {
      "cell_type": "code",
      "execution_count": null,
      "metadata": {
        "id": "UaTpftD5NRm8"
      },
      "outputs": [],
      "source": [
        "<?xml version=\"1.0\"?>\n",
        "<robot name=\"tf_demo_robot\" xmlns:xacro=\"http://ros.org/wiki/xacro\">\n",
        "\n",
        "  <!-- Base link -->\n",
        "  <link name=\"base_link\">\n",
        "    <visual>\n",
        "      <geometry><box size=\"0.4 0.4 0.2\"/></geometry>\n",
        "      <material name=\"red\"><color rgba=\"0.8 0.2 0.2 1\"/></material>\n",
        "    </visual>\n",
        "    <collision>\n",
        "      <geometry><box size=\"0.4 0.4 0.2\"/></geometry>\n",
        "    </collision>\n",
        "    <inertial>\n",
        "      <mass value=\"5\"/>\n",
        "      <inertia ixx=\"0.1\" ixy=\"0\" ixz=\"0\" iyy=\"0.1\" iyz=\"0\" izz=\"0.1\"/>\n",
        "    </inertial>\n",
        "  </link>\n",
        "\n",
        "  <!-- First joint + link -->\n",
        "  <joint name=\"arm_joint1\" type=\"revolute\">\n",
        "    <parent link=\"base_link\"/>\n",
        "    <child link=\"arm_link1\"/>\n",
        "    <origin xyz=\"0 0 0.15\" rpy=\"0 0 0\"/>\n",
        "    <axis xyz=\"0 0 1\"/>\n",
        "    <limit effort=\"10\" velocity=\"1.0\" lower=\"-1.57\" upper=\"1.57\"/>\n",
        "  </joint>\n",
        "\n",
        "  <link name=\"arm_link1\">\n",
        "    <visual>\n",
        "      <geometry><cylinder radius=\"0.03\" length=\"0.4\"/></geometry>\n",
        "      <origin xyz=\"0 0 0.2\" rpy=\"0 0 0\"/>\n",
        "      <material name=\"yellow\"><color rgba=\"0.9 0.9 0.2 1\"/></material>\n",
        "    </visual>\n",
        "    <collision>\n",
        "      <geometry><cylinder radius=\"0.03\" length=\"0.4\"/></geometry>\n",
        "    </collision>\n",
        "    <inertial>\n",
        "      <mass value=\"0.5\"/>\n",
        "      <inertia ixx=\"0.01\" ixy=\"0\" ixz=\"0\" iyy=\"0.01\" iyz=\"0\" izz=\"0.01\"/>\n",
        "    </inertial>\n",
        "  </link>\n",
        "\n",
        "  <!-- Second joint + link -->\n",
        "  <joint name=\"arm_joint2\" type=\"revolute\">\n",
        "    <parent link=\"arm_link1\"/>\n",
        "    <child link=\"arm_link2\"/>\n",
        "    <origin xyz=\"0 0 0.4\" rpy=\"0 0 0\"/>\n",
        "    <axis xyz=\"0 1 0\"/>\n",
        "    <limit effort=\"10\" velocity=\"1.0\" lower=\"-1.57\" upper=\"1.57\"/>\n",
        "  </joint>\n",
        "\n",
        "  <link name=\"arm_link2\">\n",
        "    <visual>\n",
        "      <geometry><cylinder radius=\"0.025\" length=\"0.3\"/></geometry>\n",
        "      <origin xyz=\"0 0 0.15\" rpy=\"0 0 0\"/>\n",
        "      <material name=\"blue\"><color rgba=\"0.3 0.3 0.8 1\"/></material>\n",
        "    </visual>\n",
        "    <collision>\n",
        "      <geometry><cylinder radius=\"0.025\" length=\"0.3\"/></geometry>\n",
        "    </collision>\n",
        "    <inertial>\n",
        "      <mass value=\"0.3\"/>\n",
        "      <inertia ixx=\"0.005\" ixy=\"0\" ixz=\"0\" iyy=\"0.005\" iyz=\"0\" izz=\"0.005\"/>\n",
        "    </inertial>\n",
        "  </link>\n",
        "\n",
        "  <!-- Camera link -->\n",
        "  <joint name=\"camera_joint\" type=\"fixed\">\n",
        "    <parent link=\"arm_link2\"/>\n",
        "    <child link=\"camera_link\"/>\n",
        "    <origin xyz=\"0 0 0.3\" rpy=\"0 0 0\"/>\n",
        "  </joint>\n",
        "\n",
        "  <link name=\"camera_link\">\n",
        "    <visual>\n",
        "      <geometry><box size=\"0.1 0.05 0.05\"/></geometry>\n",
        "      <material name=\"green\"><color rgba=\"0.2 0.8 0.2 1\"/></material>\n",
        "    </visual>\n",
        "    <collision>\n",
        "      <geometry><box size=\"0.1 0.05 0.05\"/></geometry>\n",
        "    </collision>\n",
        "    <inertial>\n",
        "      <mass value=\"0.1\"/>\n",
        "      <inertia ixx=\"0.001\" ixy=\"0\" ixz=\"0\" iyy=\"0.001\" iyz=\"0\" izz=\"0.001\"/>\n",
        "    </inertial>\n",
        "  </link>\n",
        "\n",
        "</robot>\n"
      ]
    },
    {
      "cell_type": "markdown",
      "metadata": {
        "id": "hqT7JdTINRm8"
      },
      "source": [
        "launch/display.launch"
      ]
    },
    {
      "cell_type": "code",
      "execution_count": null,
      "metadata": {
        "id": "f9lQZt55NRm8"
      },
      "outputs": [],
      "source": [
        "<launch>\n",
        "  <!-- Load URDF -->\n",
        "  <param name=\"robot_description\" command=\"$(find xacro)/xacro $(find my_tf_demo)/urdf/robot_with_arm.urdf.xacro\" />\n",
        "\n",
        "  <!-- Joint State Publisher GUI -->\n",
        "  <node name=\"joint_state_publisher_gui\" pkg=\"joint_state_publisher_gui\" type=\"joint_state_publisher_gui\" />\n",
        "\n",
        "  <!-- Robot State Publisher -->\n",
        "  <node name=\"robot_state_publisher\" pkg=\"robot_state_publisher\" type=\"robot_state_publisher\" />\n",
        "\n",
        "  <!-- Map -->\n",
        "  <node pkg=\"tf2_ros\" type=\"static_transform_publisher\" name=\"map_to_base\"\n",
        "      args=\"0 0 0 0 0 0 map base_link\" />\n",
        "\n",
        "  <!-- RViz -->\n",
        "  <node name=\"rviz\" pkg=\"rviz\" type=\"rviz\" args=\"-d $(find my_tf_demo)/urdf/display.rviz\" required=\"true\"/>\n",
        "</launch>\n"
      ]
    },
    {
      "cell_type": "code",
      "execution_count": null,
      "metadata": {
        "id": "kRe3DIPZNRm9"
      },
      "outputs": [],
      "source": [
        "# Run\n",
        "roslaunch my_tf_demo display.launch"
      ]
    },
    {
      "cell_type": "markdown",
      "metadata": {
        "id": "DE6-_UocNRm9"
      },
      "source": [
        "To see tree of relationships"
      ]
    },
    {
      "cell_type": "code",
      "execution_count": null,
      "metadata": {
        "id": "sAfaAeYTNRm9"
      },
      "outputs": [],
      "source": [
        "# used to visualize the relationships between coordinate frames being broadcast\n",
        "# by the tf (or tf2 in newer ROS versions) system.\n",
        "rosrun tf view_frames\n",
        "# Will save a PDF file of this relationship in the current folder."
      ]
    },
    {
      "cell_type": "code",
      "execution_count": null,
      "metadata": {
        "id": "dvJvzTDwNRm9"
      },
      "outputs": [],
      "source": [
        "# Or:\n",
        "rosrun rqt_tf_tree rqt_tf_tree\n",
        "# Savev Image"
      ]
    },
    {
      "cell_type": "markdown",
      "metadata": {
        "id": "pN_KALYuNRm9"
      },
      "source": [
        "gazebo.launch"
      ]
    },
    {
      "cell_type": "markdown",
      "metadata": {
        "id": "B0ZoBoHzNRm9"
      },
      "source": [
        "## **Step 2**"
      ]
    },
    {
      "cell_type": "markdown",
      "metadata": {
        "id": "0czITm-KNRm9"
      },
      "source": [
        "Add an objet to the scene.\n",
        "And broadcast its location on TF."
      ]
    },
    {
      "cell_type": "markdown",
      "metadata": {
        "id": "yQZvZ_gaNRm9"
      },
      "source": [
        "scripts/tf_broadcaster.py"
      ]
    },
    {
      "cell_type": "code",
      "execution_count": null,
      "metadata": {
        "id": "BhPA5MGoNRm9"
      },
      "outputs": [],
      "source": [
        "#!/usr/bin/env python3\n",
        "import rospy\n",
        "import tf_conversions\n",
        "import tf2_ros\n",
        "import geometry_msgs.msg\n",
        "import math\n",
        "\n",
        "def broadcaster():\n",
        "    rospy.init_node('object_tf_broadcaster')\n",
        "\n",
        "    br = tf2_ros.TransformBroadcaster()\n",
        "    rate = rospy.Rate(10)\n",
        "\n",
        "    while not rospy.is_shutdown():\n",
        "        t = geometry_msgs.msg.TransformStamped()\n",
        "\n",
        "        t.header.stamp = rospy.Time.now()\n",
        "        t.header.frame_id = \"base_link\"\n",
        "        t.child_frame_id = \"object_frame\"\n",
        "\n",
        "        # Object position relative to base_link\n",
        "        t.transform.translation.x = 1.0\n",
        "        t.transform.translation.y = 0.5\n",
        "        t.transform.translation.z = 0.0\n",
        "\n",
        "        # No rotation (identity quaternion)\n",
        "        q = tf_conversions.transformations.quaternion_from_euler(0, 0, 0)\n",
        "        t.transform.rotation.x = q[0]\n",
        "        t.transform.rotation.y = q[1]\n",
        "        t.transform.rotation.z = q[2]\n",
        "        t.transform.rotation.w = q[3]\n",
        "\n",
        "        br.sendTransform(t)\n",
        "        rate.sleep()\n",
        "\n",
        "if __name__ == '__main__':\n",
        "    try:\n",
        "        broadcaster()\n",
        "    except rospy.ROSInterruptException:\n",
        "        pass\n"
      ]
    },
    {
      "cell_type": "markdown",
      "metadata": {
        "id": "f5clVnogNRm-"
      },
      "source": [
        "This node prints the distance and angle of the object relative to the camera:"
      ]
    },
    {
      "cell_type": "markdown",
      "metadata": {
        "id": "A_uT5uCWNRm-"
      },
      "source": [
        "scripts/tf_listener.py"
      ]
    },
    {
      "cell_type": "code",
      "execution_count": null,
      "metadata": {
        "id": "E2ooXtAbNRm-"
      },
      "outputs": [],
      "source": [
        "#!/usr/bin/env python3\n",
        "import rospy\n",
        "import tf2_ros\n",
        "import geometry_msgs.msg\n",
        "import math\n",
        "\n",
        "def listener():\n",
        "    rospy.init_node('object_tf_listener')\n",
        "\n",
        "    tfBuffer = tf2_ros.Buffer()\n",
        "    listener = tf2_ros.TransformListener(tfBuffer)\n",
        "\n",
        "    rate = rospy.Rate(2)\n",
        "    while not rospy.is_shutdown():\n",
        "        try:\n",
        "            # Transform from camera_link to object_frame\n",
        "            trans = tfBuffer.lookup_transform(\"camera_link\", \"object_frame\", rospy.Time(0))\n",
        "\n",
        "            x = trans.transform.translation.x\n",
        "            y = trans.transform.translation.y\n",
        "            z = trans.transform.translation.z\n",
        "\n",
        "            dist = math.sqrt(x**2 + y**2 + z**2)\n",
        "            angle = math.atan2(y, x)\n",
        "\n",
        "            rospy.loginfo(\"Object wrt camera_link: (x=%.2f, y=%.2f, z=%.2f), dist=%.2f m, angle=%.2f rad\",\n",
        "                          x, y, z, dist, angle)\n",
        "\n",
        "        except (tf2_ros.LookupException, tf2_ros.ConnectivityException, tf2_ros.ExtrapolationException):\n",
        "            continue\n",
        "\n",
        "        rate.sleep()\n",
        "\n",
        "if __name__ == '__main__':\n",
        "    listener()\n"
      ]
    },
    {
      "cell_type": "markdown",
      "metadata": {
        "id": "2WREFtWrNRm-"
      },
      "source": [
        "launch/tf_demo.launch"
      ]
    },
    {
      "cell_type": "code",
      "execution_count": null,
      "metadata": {
        "id": "m6jqjHiBNRm-"
      },
      "outputs": [],
      "source": [
        "<launch>\n",
        "  <!-- Load URDF -->\n",
        "  <param name=\"robot_description\" command=\"$(find xacro)/xacro $(find my_tf_demo)/urdf/robot_with_arm.urdf.xacro\" />\n",
        "\n",
        "  <!-- State publisher -->\n",
        "  <node name=\"joint_state_publisher_gui\" pkg=\"joint_state_publisher_gui\" type=\"joint_state_publisher_gui\"/>\n",
        "  <node name=\"robot_state_publisher\" pkg=\"robot_state_publisher\" type=\"robot_state_publisher\"/>\n",
        "\n",
        "  <!-- RViz -->\n",
        "  <node name=\"rviz\" pkg=\"rviz\" type=\"rviz\" args=\"-d $(find my_tf_demo)/urdf/display.rviz\" />\n",
        "\n",
        "  <!-- Object broadcaster -->\n",
        "  <node name=\"tf_broadcaster\" pkg=\"my_tf_demo\" type=\"tf_broadcaster.py\" output=\"screen\"/>\n",
        "\n",
        "  <!-- Listener -->\n",
        "  <node name=\"tf_listener\" pkg=\"my_tf_demo\" type=\"tf_listener.py\" output=\"screen\"/>\n",
        "</launch>\n"
      ]
    },
    {
      "cell_type": "code",
      "execution_count": null,
      "metadata": {
        "id": "QlvnoHbGNRm-"
      },
      "outputs": [],
      "source": [
        "roslaunch my_tf_demo tf_demo.launch"
      ]
    },
    {
      "cell_type": "markdown",
      "metadata": {
        "id": "HeWUs3o3NRm-"
      },
      "source": [
        "## **Add the object to Gazebo**"
      ]
    },
    {
      "cell_type": "markdown",
      "metadata": {
        "id": "kOG0u6SrNRm-"
      },
      "source": [
        "urdf/object.sdf"
      ]
    },
    {
      "cell_type": "code",
      "execution_count": null,
      "metadata": {
        "id": "kZ0__2jrNRm-"
      },
      "outputs": [],
      "source": [
        "<?xml version=\"1.0\" ?>\n",
        "<sdf version=\"1.6\">\n",
        "  <model name=\"object_box\">\n",
        "    <static>true</static>\n",
        "    <link name=\"object_link\">\n",
        "      <pose>1 0.5 0 0 0 0</pose> <!-- x=1.0, y=0.5, z=0.0 -->\n",
        "      <visual name=\"visual\">\n",
        "        <geometry>\n",
        "          <box>\n",
        "            <size>0.2 0.2 0.2</size>\n",
        "          </box>\n",
        "        </geometry>\n",
        "        <material>\n",
        "          <ambient>0 0.8 0.8 1</ambient>\n",
        "          <diffuse>0 0.8 0.8 1</diffuse>\n",
        "        </material>\n",
        "      </visual>\n",
        "      <collision name=\"collision\">\n",
        "        <geometry>\n",
        "          <box>\n",
        "            <size>0.2 0.2 0.2</size>\n",
        "          </box>\n",
        "        </geometry>\n",
        "      </collision>\n",
        "    </link>\n",
        "  </model>\n",
        "</sdf>\n"
      ]
    },
    {
      "cell_type": "markdown",
      "metadata": {
        "id": "ZHg8UF3vNRm-"
      },
      "source": [
        "Gazebo + robot + object\n",
        "\n",
        "launch/gazebo.launch"
      ]
    },
    {
      "cell_type": "code",
      "execution_count": null,
      "metadata": {
        "id": "1us-3g5pNRm_"
      },
      "outputs": [],
      "source": [
        "<launch>\n",
        "  <!-- Start Gazebo with empty world -->\n",
        "  <include file=\"$(find gazebo_ros)/launch/empty_world.launch\" />\n",
        "\n",
        "  <!-- Load robot description -->\n",
        "  <param name=\"robot_description\" command=\"$(find xacro)/xacro $(find my_tf_demo)/urdf/robot_with_arm.urdf.xacro\" />\n",
        "\n",
        "  <!-- Spawn robot in Gazebo -->\n",
        "  <node name=\"spawn_urdf\" pkg=\"gazebo_ros\" type=\"spawn_model\"\n",
        "        args=\"-param robot_description -urdf -model tf_demo_robot -x 0 -y 0 -z 0.5\" />\n",
        "\n",
        "  <!-- Spawn object -->\n",
        "  <node name=\"spawn_object\" pkg=\"gazebo_ros\" type=\"spawn_model\"\n",
        "        args=\"-file $(find my_tf_demo)/urdf/object.sdf -sdf -model object_box -x 1 -y 0.5 -z 0.1\" />\n",
        "</launch>\n"
      ]
    },
    {
      "cell_type": "markdown",
      "metadata": {
        "id": "gH7LvGntNRm_"
      },
      "source": [
        "Synchronizing tf with object model\n",
        "\n",
        "When you spawn a model, Gazebo creates a link to it. This link can be found in /gazebo/link_states.\n",
        "We can publish a tf object from this data with a simple node."
      ]
    },
    {
      "cell_type": "markdown",
      "metadata": {
        "id": "p15lI61QNRm_"
      },
      "source": [
        "scripts/gazebo_object_tf.py"
      ]
    },
    {
      "cell_type": "code",
      "execution_count": null,
      "metadata": {
        "id": "JBXyhEIQNRm_"
      },
      "outputs": [],
      "source": [
        "#!/usr/bin/env python3\n",
        "import rospy\n",
        "import tf_conversions\n",
        "import tf2_ros\n",
        "import geometry_msgs.msg\n",
        "from gazebo_msgs.msg import LinkStates\n",
        "\n",
        "def callback(data):\n",
        "    if \"object_box::object_link\" in data.name:\n",
        "        idx = data.name.index(\"object_box::object_link\")\n",
        "        pose = data.pose[idx]\n",
        "\n",
        "        br = tf2_ros.TransformBroadcaster()\n",
        "        t = geometry_msgs.msg.TransformStamped()\n",
        "\n",
        "        t.header.stamp = rospy.Time.now()\n",
        "        t.header.frame_id = \"world\"\n",
        "        t.child_frame_id = \"object_frame\"\n",
        "\n",
        "        t.transform.translation.x = pose.position.x\n",
        "        t.transform.translation.y = pose.position.y\n",
        "        t.transform.translation.z = pose.position.z\n",
        "\n",
        "        t.transform.rotation = pose.orientation\n",
        "\n",
        "        br.sendTransform(t)\n",
        "\n",
        "def listener():\n",
        "    rospy.init_node('gazebo_object_tf')\n",
        "    rospy.Subscriber(\"/gazebo/link_states\", LinkStates, callback)\n",
        "    rospy.spin()\n",
        "\n",
        "if __name__ == '__main__':\n",
        "    listener()\n"
      ]
    },
    {
      "cell_type": "markdown",
      "metadata": {
        "id": "Egh2Pi1rNRm_"
      },
      "source": [
        "Final Launch"
      ]
    },
    {
      "cell_type": "markdown",
      "metadata": {
        "id": "GCySDe5qNRm_"
      },
      "source": [
        "launch/tf_demo_gazebo.launch"
      ]
    },
    {
      "cell_type": "code",
      "execution_count": null,
      "metadata": {
        "id": "UpZVvVDENRnA"
      },
      "outputs": [],
      "source": [
        "<launch>\n",
        "  <!-- Start Gazebo with empty world -->\n",
        "  <include file=\"$(find gazebo_ros)/launch/empty_world.launch\" />\n",
        "\n",
        "  <!-- Load robot description -->\n",
        "  <!-- <param name=\"robot_description\" command=\"$(find xacro)/xacro $(find my_tf_demo)/urdf/robot_with_arm.urdf.xacro\" /> -->\n",
        "  <param name=\"robot_description\" command=\"$(find xacro)/xacro --inorder $(find my_tf_demo)/urdf/robot_with_arm.urdf.xacro\" />\n",
        "  <!-- or -->\n",
        "  <!-- <param name=\"robot_description\" command=\"$(xacro $(find my_tf_demo)/urdf/robot_with_arm.urdf.xacro)\" /> -->\n",
        "\n",
        "  <!-- Spawn robot in Gazebo -->\n",
        "  <node name=\"spawn_urdf\" pkg=\"gazebo_ros\" type=\"spawn_model\"\n",
        "        args=\"-param robot_description -urdf -model tf_demo_robot -x 0 -y 0 -z 0.5\" />\n",
        "\n",
        "  <!-- Spawn object -->\n",
        "  <node name=\"spawn_object\" pkg=\"gazebo_ros\" type=\"spawn_model\"\n",
        "        args=\"-file $(find my_tf_demo)/urdf/object.sdf -sdf -model object_box -x 1 -y 0.5 -z 0.1\" />\n",
        "</launch>"
      ]
    },
    {
      "cell_type": "code",
      "execution_count": null,
      "metadata": {
        "id": "mGvjW4F3NRnA"
      },
      "outputs": [],
      "source": [
        "roslaunch my_tf_demo tf_demo_gazebo.launch"
      ]
    },
    {
      "cell_type": "markdown",
      "metadata": {
        "id": "JQhewZi8NRnI"
      },
      "source": [
        "It will be seen that, there is no movement in the Gazebo. It happens since, there is no joint controller or transmission defined for the robot."
      ]
    },
    {
      "cell_type": "markdown",
      "metadata": {
        "id": "ZCzUq7YDNRnI"
      },
      "source": [
        "urdf (robot_with_arm.urdf.xacro)\n",
        "Add gazebo plugin and transmission to each joint."
      ]
    },
    {
      "cell_type": "code",
      "execution_count": null,
      "metadata": {
        "id": "qA1MB5T-NRnI"
      },
      "outputs": [],
      "source": [
        "<?xml version=\"1.0\"?>\n",
        "<robot name=\"tf_demo_robot\" xmlns:xacro=\"http://ros.org/wiki/xacro\">\n",
        "\n",
        "  <!-- Base link -->\n",
        "  <link name=\"base_link\">\n",
        "    <visual>\n",
        "      <geometry><box size=\"0.4 0.4 0.2\"/></geometry>\n",
        "      <material name=\"red\"><color rgba=\"0.8 0.2 0.2 1\"/></material>\n",
        "    </visual>\n",
        "    <collision>\n",
        "      <geometry><box size=\"0.4 0.4 0.2\"/></geometry>\n",
        "    </collision>\n",
        "    <inertial>\n",
        "      <mass value=\"5\"/>\n",
        "      <inertia ixx=\"0.1\" ixy=\"0\" ixz=\"0\" iyy=\"0.1\" iyz=\"0\" izz=\"0.1\"/>\n",
        "    </inertial>\n",
        "  </link>\n",
        "\n",
        "  <!-- First joint + link -->\n",
        "  <joint name=\"arm_joint1\" type=\"revolute\">\n",
        "    <parent link=\"base_link\"/>\n",
        "    <child link=\"arm_link1\"/>\n",
        "    <origin xyz=\"0 0 0.15\" rpy=\"0 0 0\"/>\n",
        "    <axis xyz=\"0 0 1\"/>\n",
        "    <limit effort=\"10\" velocity=\"1.0\" lower=\"-1.57\" upper=\"1.57\"/>\n",
        "  </joint>\n",
        "\n",
        "  <link name=\"arm_link1\">\n",
        "    <visual>\n",
        "      <geometry><cylinder radius=\"0.03\" length=\"0.4\"/></geometry>\n",
        "      <origin xyz=\"0 0 0.2\" rpy=\"0 0 0\"/>\n",
        "      <material name=\"yellow\"><color rgba=\"0.8 0.8 0.2 1\"/></material>\n",
        "    </visual>\n",
        "    <collision>\n",
        "      <geometry><cylinder radius=\"0.03\" length=\"0.4\"/></geometry>\n",
        "    </collision>\n",
        "    <inertial>\n",
        "      <mass value=\"1\"/>\n",
        "      <inertia ixx=\"0.01\" ixy=\"0\" ixz=\"0\" iyy=\"0.01\" iyz=\"0\" izz=\"0.01\"/>\n",
        "    </inertial>\n",
        "  </link>\n",
        "\n",
        "  <!-- Second joint + link -->\n",
        "  <joint name=\"arm_joint2\" type=\"revolute\">\n",
        "    <parent link=\"arm_link1\"/>\n",
        "    <child link=\"arm_link2\"/>\n",
        "    <origin xyz=\"0 0 0.4\" rpy=\"0 0 0\"/>\n",
        "    <axis xyz=\"0 1 0\"/>\n",
        "    <limit effort=\"10\" velocity=\"1.0\" lower=\"-1.57\" upper=\"1.57\"/>\n",
        "  </joint>\n",
        "\n",
        "  <link name=\"arm_link2\">\n",
        "    <visual>\n",
        "      <geometry><cylinder radius=\"0.025\" length=\"0.3\"/></geometry>\n",
        "      <origin xyz=\"0 0 0.15\" rpy=\"0 0 0\"/>\n",
        "      <material name=\"blue\"><color rgba=\"0.3 0.3 0.8 1\"/></material>\n",
        "    </visual>\n",
        "    <collision>\n",
        "      <geometry><cylinder radius=\"0.025\" length=\"0.3\"/></geometry>\n",
        "    </collision>\n",
        "    <inertial>\n",
        "      <mass value=\"1\"/>\n",
        "      <inertia ixx=\"0.01\" ixy=\"0\" ixz=\"0\" iyy=\"0.01\" iyz=\"0\" izz=\"0.01\"/>\n",
        "    </inertial>\n",
        "  </link>\n",
        "\n",
        "  <!-- Camera link -->\n",
        "  <joint name=\"camera_joint\" type=\"fixed\">\n",
        "    <parent link=\"arm_link2\"/>\n",
        "    <child link=\"camera_link\"/>\n",
        "    <origin xyz=\"0 0 0.3\" rpy=\"0 0 0\"/>\n",
        "  </joint>\n",
        "\n",
        "  <link name=\"camera_link\">\n",
        "    <visual>\n",
        "      <geometry><box size=\"0.1 0.05 0.05\"/></geometry>\n",
        "      <material name=\"green\"><color rgba=\"0.3 0.8 0.3 1\"/></material>\n",
        "    </visual>\n",
        "    <collision>\n",
        "      <geometry><box size=\"0.1 0.05 0.05\"/></geometry>\n",
        "    </collision>\n",
        "    <inertial>\n",
        "      <mass value=\"0.5\"/>\n",
        "      <inertia ixx=\"0.01\" ixy=\"0\" ixz=\"0\" iyy=\"0.01\" iyz=\"0\" izz=\"0.01\"/>\n",
        "    </inertial>\n",
        "  </link>\n",
        "\n",
        "  <!-- Transmissions -->\n",
        "  <transmission name=\"trans_arm_joint1\">\n",
        "    <type>transmission_interface/SimpleTransmission</type>\n",
        "    <joint name=\"arm_joint1\">\n",
        "      <hardwareInterface>PositionJointInterface</hardwareInterface>\n",
        "    </joint>\n",
        "    <actuator name=\"motor1\">\n",
        "      <hardwareInterface>PositionJointInterface</hardwareInterface>\n",
        "      <mechanicalReduction>1</mechanicalReduction>\n",
        "    </actuator>\n",
        "  </transmission>\n",
        "\n",
        "  <transmission name=\"trans_arm_joint2\">\n",
        "    <type>transmission_interface/SimpleTransmission</type>\n",
        "    <joint name=\"arm_joint2\">\n",
        "      <hardwareInterface>PositionJointInterface</hardwareInterface>\n",
        "    </joint>\n",
        "    <actuator name=\"motor2\">\n",
        "      <hardwareInterface>PositionJointInterface</hardwareInterface>\n",
        "      <mechanicalReduction>1</mechanicalReduction>\n",
        "    </actuator>\n",
        "  </transmission>\n",
        "\n",
        "  <!-- Gazebo plugin -->\n",
        "  <gazebo>\n",
        "    <plugin name=\"gazebo_ros_control\" filename=\"libgazebo_ros_control.so\"/>\n",
        "  </gazebo>\n",
        "\n",
        "</robot>\n"
      ]
    },
    {
      "cell_type": "markdown",
      "metadata": {
        "id": "_65enyBANRnJ"
      },
      "source": [
        "my_tf_demo/config/controllers.yaml"
      ]
    },
    {
      "cell_type": "code",
      "execution_count": null,
      "metadata": {
        "id": "O7AgwQ__NRnJ"
      },
      "outputs": [],
      "source": [
        "arm_joint1_position_controller:\n",
        "  type: effort_controllers/JointPositionController\n",
        "  joint: arm_joint1\n",
        "  pid: {p: 100.0, i: 0.01, d: 1.0}\n",
        "\n",
        "arm_joint2_position_controller:\n",
        "  type: effort_controllers/JointPositionController\n",
        "  joint: arm_joint2\n",
        "  pid: {p: 100.0, i: 0.01, d: 1.0}\n"
      ]
    },
    {
      "cell_type": "markdown",
      "metadata": {
        "id": "CpKLJ4cvNRnJ"
      },
      "source": [
        "launch/arm_control.launch"
      ]
    },
    {
      "cell_type": "code",
      "execution_count": null,
      "metadata": {
        "id": "a06vkcFwNRnJ"
      },
      "outputs": [],
      "source": [
        "<launch>\n",
        "  <!-- Gazebo -->\n",
        "  <include file=\"$(find gazebo_ros)/launch/empty_world.launch\"/>\n",
        "\n",
        "  <!-- Robot description -->\n",
        "  <param name=\"robot_description\" command=\"$(find xacro)/xacro '$(find my_tf_demo)/urdf/robot_with_arm.urdf.xacro'\"/>\n",
        "\n",
        "  <!-- Spawn robot -->\n",
        "  <node name=\"spawn_urdf\" pkg=\"gazebo_ros\" type=\"spawn_model\"\n",
        "        args=\"-param robot_description -urdf -model tf_demo_robot\" />\n",
        "\n",
        "  <!-- Controllers -->\n",
        "  <rosparam file=\"$(find my_tf_demo)/config/controllers.yaml\" command=\"load\"/>\n",
        "  <node name=\"controller_spawner\" pkg=\"controller_manager\" type=\"spawner\"\n",
        "        args=\"arm_joint1_position_controller arm_joint2_position_controller\" />\n",
        "\n",
        "  <!-- RViz -->\n",
        "  <node name=\"rviz\" pkg=\"rviz\" type=\"rviz\"/>\n",
        "</launch>\n"
      ]
    },
    {
      "cell_type": "code",
      "execution_count": null,
      "metadata": {
        "id": "mTLOxF14NRnJ"
      },
      "outputs": [],
      "source": [
        "roslaunch my_tf_demo arm_control.launch"
      ]
    },
    {
      "cell_type": "code",
      "execution_count": null,
      "metadata": {
        "id": "Xc2OVFp-NRnJ"
      },
      "outputs": [],
      "source": [
        "rostopic pub /arm_joint1_position_controller/command std_msgs/Float64 \"data: 0.5\"\n",
        "rostopic pub /arm_joint2_position_controller/command std_msgs/Float64 \"data: -0.5\""
      ]
    }
  ],
  "metadata": {
    "kernelspec": {
      "display_name": "Python 2",
      "language": "python",
      "name": "python2"
    },
    "language_info": {
      "codemirror_mode": {
        "name": "ipython",
        "version": 2
      },
      "file_extension": ".py",
      "mimetype": "text/x-python",
      "name": "python",
      "nbconvert_exporter": "python",
      "pygments_lexer": "ipython2",
      "version": "2.7.16"
    },
    "colab": {
      "provenance": [],
      "include_colab_link": true
    }
  },
  "nbformat": 4,
  "nbformat_minor": 0
}