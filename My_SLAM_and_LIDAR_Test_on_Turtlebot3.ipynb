{
  "cells": [
    {
      "cell_type": "markdown",
      "metadata": {
        "id": "view-in-github",
        "colab_type": "text"
      },
      "source": [
        "<a href=\"https://colab.research.google.com/github/FatemehNMT/MyROS/blob/main/My_SLAM_and_LIDAR_Test_on_Turtlebot3.ipynb\" target=\"_parent\"><img src=\"https://colab.research.google.com/assets/colab-badge.svg\" alt=\"Open In Colab\"/></a>"
      ]
    },
    {
      "cell_type": "markdown",
      "metadata": {
        "id": "88LaHv6gBUKH"
      },
      "source": [
        "I am working applying \"The Construct\". To import a package (here for me turtlebot3):"
      ]
    },
    {
      "cell_type": "markdown",
      "metadata": {
        "id": "PlRd88Z4BUKI"
      },
      "source": [
        "1."
      ]
    },
    {
      "cell_type": "code",
      "execution_count": null,
      "metadata": {
        "id": "INAhkDscBUKI"
      },
      "outputs": [],
      "source": [
        "cd /simulation_ws/src/"
      ]
    },
    {
      "cell_type": "markdown",
      "metadata": {
        "id": "An0CPnipBUKJ"
      },
      "source": [
        "reference: https://www.youtube.com/watch?v=WCMosUMv_fg\n",
        "\n",
        "git clone:\n",
        "https://github.com/ROBOTIS-GIT/turtlebot3\n",
        "\n",
        "https://github.com/ROBOTIS-GIT/turtlebot3_simulations\n",
        "\n",
        "https://github.com/ROBOTIS-GIT/turtlebot3_msgs"
      ]
    },
    {
      "cell_type": "code",
      "execution_count": null,
      "metadata": {
        "id": "tfbV7YltBUKK"
      },
      "outputs": [],
      "source": [
        "source devel/setup.bash"
      ]
    },
    {
      "cell_type": "code",
      "execution_count": null,
      "metadata": {
        "id": "VCxeeE2NBUKK"
      },
      "outputs": [],
      "source": [
        "2."
      ]
    },
    {
      "cell_type": "markdown",
      "metadata": {
        "id": "UL2KpJa0BUKK"
      },
      "source": [
        "OR:\n",
        "\n",
        "Upload file from my own local environment (in the folder /catkin_ws/src/)\n",
        "\n",
        "Then:"
      ]
    },
    {
      "cell_type": "code",
      "execution_count": null,
      "metadata": {
        "id": "rkYeniWkBUKK"
      },
      "outputs": [],
      "source": [
        "cd ~/catkin_ws\n",
        "catkin_make\n",
        "source devel/setup.bash"
      ]
    },
    {
      "cell_type": "markdown",
      "metadata": {
        "id": "ZKAYhPaPBUKL"
      },
      "source": [
        "*** turtlebot3's packages are installed in The Construct by default.\n",
        "\n",
        "*** There is no need to generate a new package; since the folder has its own package.xml and CMakeLists.txt. Otherwise, ROS couldn't recognise it without generating a package.\n",
        "\n",
        "*** Dependencies of a package must be installed in advance; To check them look at the file \"package.xml\", phrases within \"<depend>...</depend>\".\n",
        "Or:\n",
        "cd ~/catkin_ws\n",
        "rosdep check --from-paths src --ignore-src\n",
        "A package needs its dependencies for \"build/run\".\n",
        "\n",
        "*** Public dependencies are installed in The Construct (such as: turtlebot3, gazebo_ros, std_msgs, nav_msgs, geometry_msgs).\n",
        "\n",
        "*** If there is a special dependency that is not installed in The Construct in advance, use the command:\n",
        "rosdep install --from-paths src --ignore-src -r -y"
      ]
    },
    {
      "cell_type": "code",
      "execution_count": null,
      "metadata": {
        "id": "eHiefC3JBUKL"
      },
      "outputs": [],
      "source": [
        "#  To run a .launch file (of turtlebot3 package):\n",
        "#  1.\n",
        "export TURTLEBOT3_MODEL=burger\n",
        "# Then 2.\n",
        "roslaunch turtlebot3_gazebo turtlebot3_empty_world.launch\n",
        "\n",
        "# OR\n",
        "\n",
        "# 1 Permanent solution: put it into .bashrc\n",
        "echo \"export TURTLEBOT3_MODEL=burger\" >> ~/.bashrc\n",
        "source ~/.bashrc\n",
        "\n",
        "# or 2 Temporary Solution:\n",
        "TURTLEBOT3_MODEL=burger roslaunch turtlebot3_gazebo turtlebot3_empty_world.launch"
      ]
    },
    {
      "cell_type": "markdown",
      "metadata": {
        "id": "e_af9lXJBUKL"
      },
      "source": [
        "Or a more professional approach:\n",
        "\n",
        "1. Generate a turtlebot3_custom.launch file in the folder catkin_ws/launch/"
      ]
    },
    {
      "cell_type": "code",
      "execution_count": null,
      "metadata": {
        "id": "jwcALcC_BUKL"
      },
      "outputs": [],
      "source": [
        "<?xml version=\"1.0\" encoding=\"UTF-8\"?>\n",
        "<launch>\n",
        "  <!-- Model Selection -->\n",
        "  <arg name=\"model\" default=\"burger\" doc=\"Robot's Model [burger, waffle, waffle_pi]\" />\n",
        "  <env name=\"TURTLEBOT3_MODEL\" value=\"$(arg model)\" />\n",
        "\n",
        "  <!-- World Selection -->\n",
        "  <arg name=\"world\" default=\"empty_world\" doc=\"world [empty_world, turtlebot3_world, turtlebot3_house]\" />\n",
        "\n",
        "  <!-- Run -->\n",
        "  <include file=\"$(find turtlebot3_gazebo)/launch/turtlebot3_$(arg world).launch\" />\n",
        "</launch>"
      ]
    },
    {
      "cell_type": "code",
      "execution_count": null,
      "metadata": {
        "id": "2FeRtNEnBUKL"
      },
      "outputs": [],
      "source": [
        "# Run for example as\n",
        "roslaunch your_pkg turtlebot3_custom.launch model:=waffle world:=turtlebot3_world"
      ]
    },
    {
      "cell_type": "code",
      "execution_count": null,
      "metadata": {
        "id": "1dDx-ti8BUKM"
      },
      "outputs": [],
      "source": [
        "# Or with its defaults as\n",
        "roslaunch your_pkg turtlebot3_custom.launch"
      ]
    },
    {
      "cell_type": "markdown",
      "metadata": {
        "id": "8WygLPHtBUKM"
      },
      "source": [
        "## SLAM teleop"
      ]
    },
    {
      "cell_type": "code",
      "execution_count": null,
      "metadata": {
        "id": "Y7GHczAMBUKM"
      },
      "outputs": [],
      "source": [
        "# 1. Terminal 1\n",
        "roscore\n",
        "# 2. Terminal 2\n",
        "TURTLEBOT3_MODEL=burger roslaunch turtlebot3_gazebo turtlebot3_world.launch\n",
        "# 3. Terminal 3\n",
        "TURTLEBOT3_MODEL=burger roslaunch turtlebot3_slam turtlebot3_slam.launch    # this one opens rviz frame.\n",
        "# 4. Terminal\n",
        "TURTLEBOT3_MODEL=burger roslaunch turtlebot3_teleop turtlebot3_teleop_key.launch\n",
        "# In the forth therminal as active terminal, apply keys \"a, w, s, d, x\" to move the robot."
      ]
    },
    {
      "cell_type": "code",
      "execution_count": null,
      "metadata": {
        "id": "l1UoBTZ9BUKM"
      },
      "outputs": [],
      "source": [
        "rosrun map_server map_saver\n",
        "# will save map.yaml and map.pgm in home file"
      ]
    },
    {
      "cell_type": "code",
      "execution_count": null,
      "metadata": {
        "id": "-4EESMN3BUKM"
      },
      "outputs": [],
      "source": [
        "# Navigation\n",
        "TURTLEBOT3_MODEL=burger roslaunch turtlebot3_navigation turtlebot3_navigation.launch map_file:=$HOME/map.yaml"
      ]
    },
    {
      "cell_type": "markdown",
      "metadata": {
        "id": "oy87TAkDBUKM"
      },
      "source": [
        "## SLAM autonomous"
      ]
    },
    {
      "cell_type": "code",
      "execution_count": null,
      "metadata": {
        "id": "ghWh-ApkBUKM"
      },
      "outputs": [],
      "source": []
    },
    {
      "cell_type": "markdown",
      "metadata": {
        "id": "c9Bdu2zJBUKM"
      },
      "source": [
        "## My LIDAR Test"
      ]
    },
    {
      "cell_type": "code",
      "execution_count": null,
      "metadata": {
        "id": "z23kFsQpBUKM"
      },
      "outputs": [],
      "source": [
        "TURTLEBOT3_MODEL=burger roslaunch turtlebot3_gazebo turtlebot3_empty_world.launch"
      ]
    },
    {
      "cell_type": "code",
      "execution_count": null,
      "metadata": {
        "id": "9DLU7Oc1BUKM"
      },
      "outputs": [],
      "source": [
        "# To check topics of scan\n",
        "rostopic list | grep scan    # my output: /scan\n",
        "\n",
        "# To see the result of turtlebot3's LIDAR (Laser Scan sensor)\n",
        "rostopic echo /scan\n",
        "\n",
        "# To open rviz\n",
        "rosrun rviz rviz"
      ]
    },
    {
      "cell_type": "code",
      "execution_count": null,
      "metadata": {
        "id": "b4x6KBvfBUKM"
      },
      "outputs": [],
      "source": [
        "# to move the robot\n",
        "roslaunch turtlebot3_teleop turtlebot3_teleop_key.launch"
      ]
    },
    {
      "cell_type": "markdown",
      "metadata": {
        "id": "fxbzGEWnBUKM"
      },
      "source": [
        "Add \"LaserScan\"\n",
        "Its Topic: /scan"
      ]
    },
    {
      "cell_type": "markdown",
      "metadata": {
        "id": "aEREZ3jbBUKM"
      },
      "source": [
        "generate a file for all together: Gazebo + RViz + Teleop"
      ]
    },
    {
      "cell_type": "code",
      "execution_count": null,
      "metadata": {
        "id": "p8OaxBYoBUKM"
      },
      "outputs": [],
      "source": [
        "<launch>\n",
        "  <!-- Robot Model-->\n",
        "  <arg name=\"model\" default=\"burger\"/>\n",
        "\n",
        "  <!-- Gazebo -->\n",
        "  <include file=\"$(find turtlebot3_gazebo)/launch/turtlebot3_empty_world.launch\">\n",
        "    <arg name=\"model\" value=\"$(arg model)\" />\n",
        "  </include>\n",
        "\n",
        "  <!-- RViz -->\n",
        "  <node pkg=\"rviz\" type=\"rviz\" name=\"rviz\" args=\"-d $(find turtlebot3_description)/rviz/model.rviz\" />\n",
        "\n",
        "  <!-- Teleop -->\n",
        "  <include file=\"$(find turtlebot3_teleop)/launch/turtlebot3_teleop_key.launch\"/>\n",
        "</launch>\n"
      ]
    },
    {
      "cell_type": "code",
      "execution_count": null,
      "metadata": {
        "id": "kJnafnq-BUKM"
      },
      "outputs": [],
      "source": [
        "roslaunch my_project turtlebot3_all.launch"
      ]
    },
    {
      "cell_type": "code",
      "execution_count": null,
      "metadata": {
        "id": "ajANHUGWBUKN"
      },
      "outputs": [],
      "source": [
        "roslaunch my_project turtlebot3_all.launch model:=waffle"
      ]
    },
    {
      "cell_type": "markdown",
      "metadata": {
        "id": "EZK4ZV3HBUKN"
      },
      "source": [
        "## More work on the rviz.launch"
      ]
    },
    {
      "cell_type": "code",
      "execution_count": null,
      "metadata": {
        "id": "aHYsBdwZBUKN"
      },
      "outputs": [],
      "source": []
    }
  ],
  "metadata": {
    "kernelspec": {
      "display_name": "Python 2",
      "language": "python",
      "name": "python2"
    },
    "language_info": {
      "codemirror_mode": {
        "name": "ipython",
        "version": 2
      },
      "file_extension": ".py",
      "mimetype": "text/x-python",
      "name": "python",
      "nbconvert_exporter": "python",
      "pygments_lexer": "ipython2",
      "version": "2.7.16"
    },
    "colab": {
      "provenance": [],
      "include_colab_link": true
    }
  },
  "nbformat": 4,
  "nbformat_minor": 0
}