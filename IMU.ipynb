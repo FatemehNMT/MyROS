{
  "cells": [
    {
      "cell_type": "markdown",
      "metadata": {
        "id": "view-in-github",
        "colab_type": "text"
      },
      "source": [
        "<a href=\"https://colab.research.google.com/github/FatemehNMT/MyROS/blob/main/IMU.ipynb\" target=\"_parent\"><img src=\"https://colab.research.google.com/assets/colab-badge.svg\" alt=\"Open In Colab\"/></a>"
      ]
    },
    {
      "cell_type": "code",
      "execution_count": null,
      "metadata": {
        "id": "ikH2tTmMBSeT"
      },
      "outputs": [],
      "source": [
        "# Generate a pakage inside the simulation_ws/src:\n",
        "catkin_create_pkg name dependecies\n",
        "\n",
        "# in the simulation_ws folder\n",
        "cd ..\n",
        "# sourse the workspace in this folder again (just once)\n",
        "source devel/setup.bash\n",
        "catkin_make\n",
        "\n",
        "\n",
        "# Generate folders (such as scripts for your code, or urdf, worlds, launchs, ...)\n",
        "# put your 'xml codes' in the right folder.\n",
        "# make them executable.\n",
        "chmod +x src/sub_sensor/src/Publisher.py  #(put the address at the end)\n",
        "\n",
        "# in the simulation_ws folder\n",
        "catkin_make\n",
        "\n",
        "# Start running the code\n",
        "roscore\n",
        "\n",
        "rosrun sub_sensor Publisher.py\n",
        "rosbag play --clock -l race_3.bag\n",
        "\n",
        "# or roslaunch >> package's name >> name of launch file"
      ]
    },
    {
      "cell_type": "code",
      "execution_count": null,
      "metadata": {
        "id": "qL0e0DvmBSea"
      },
      "outputs": [],
      "source": [
        "rosrun sub_sensor Publisher.py\n",
        "rosrun sub_sensor test.py\n",
        "rosrun sub_sensor Subscriber.py\n",
        "rosbag play --clock -l race_3.bag\n",
        "rostopic list\n",
        "rostopic echo /my_imu_acc_data\n",
        "rodtopic echo /os1_cloud_node/imu"
      ]
    },
    {
      "cell_type": "markdown",
      "metadata": {
        "id": "7DY9_yPJBSeb"
      },
      "source": [
        "Place I have downloded my .bag file and dataset:\n",
        "https://fpv.ifi.uzh.ch/datasets/"
      ]
    },
    {
      "cell_type": "code",
      "execution_count": null,
      "metadata": {
        "id": "qFgwi387BSec"
      },
      "outputs": [],
      "source": [
        "# to see its information\n",
        "rosbag info race_3.bag"
      ]
    },
    {
      "cell_type": "markdown",
      "metadata": {
        "id": "oMDhV-55BSed"
      },
      "source": [
        "The output of my bag-data:\n",
        "\n",
        "path:        race_3.bag\n",
        "version:     2.0\n",
        "duration:    27.4s\n",
        "start:       Jun 10 2022 04:51:58.20 (1654836718.20)\n",
        "end:         Jun 10 2022 04:52:25.60 (1654836745.60)\n",
        "size:        538.3 MB\n",
        "messages:    11776\n",
        "compression: none [412/412 chunks]\n",
        "types:       nav_msgs/Odometry [cd5e73d190d741a2f92e81eda573aca7]\n",
        "             sensor_msgs/Image [060021388200f6f0f447d0fcd9c64743]\n",
        "             sensor_msgs/Imu   [6a62c6daae103f4ff57a132d6f95cec2]\n",
        "topics:      /camera/fisheye2/image_raw    822 msgs    : sensor_msgs/Image\n",
        "             /camera/imu                  5475 msgs    : sensor_msgs/Imu\n",
        "             /camera/odom/sample          5479 msgs    : nav_msgs/Odometry"
      ]
    },
    {
      "cell_type": "markdown",
      "metadata": {
        "id": "fSEyotJnBSed"
      },
      "source": [
        "To see more items\n",
        "such as \"clock\"\n",
        "http://wiki.ros.org/rosbag/Commandline"
      ]
    },
    {
      "cell_type": "code",
      "execution_count": null,
      "metadata": {
        "id": "kU0uewk9BSee"
      },
      "outputs": [],
      "source": [
        "# First Terminal\n",
        "roscore"
      ]
    },
    {
      "cell_type": "code",
      "execution_count": null,
      "metadata": {
        "id": "RHKsh0xHBSee"
      },
      "outputs": [],
      "source": [
        "# At first run the code:\n",
        "rosbag play --clock -l race_3.bag         # in the location of .bag's file or mention its address.\n",
        "# Then check the topics that \"rosbag\" is sending through the command:\n",
        "rosbag info race_3.bag"
      ]
    },
    {
      "cell_type": "markdown",
      "metadata": {
        "id": "9yB62FL7BSef"
      },
      "source": [
        "My output:\n",
        "path: race_3.bag\n",
        "version: 2.0\n",
        "duration: 27.4s\n",
        "start: Jun 10 2022 04:51:58.20 (1654836718.20)\n",
        "end: Jun 10 2022 04:52:25.60 (1654836745.60)\n",
        "size: 538.3 MB\n",
        "messages: 11776\n",
        "compression: none [412/412 chunks]\n",
        "\n",
        "types:       nav_msgs/Odometry [cd5e73d190d741a2f92e81eda573aca7]\n",
        "             sensor_msgs/Image [060021388200f6f0f447d0fcd9c64743]\n",
        "             sensor_msgs/Imu   [6a62c6daae103f4ff57a132d6f95cec2]\n",
        "topics:      /camera/fisheye2/image_raw    822 msgs    : sensor_msgs/Image\n",
        "             /camera/imu                  5475 msgs    : sensor_msgs/Imu\n",
        "             /camera/odom/sample          5479 msgs    : nav_msgs/Odometry"
      ]
    },
    {
      "cell_type": "code",
      "execution_count": null,
      "metadata": {
        "id": "H2DbophMBSeg"
      },
      "outputs": [],
      "source": [
        "# or to see the topics only (after running rosbag play ...):\n",
        "rostopic list"
      ]
    },
    {
      "cell_type": "markdown",
      "metadata": {
        "id": "_pmOTHkMBSeg"
      },
      "source": [
        "My output:\n",
        "/camera/fisheye2/image_raw\n",
        "/camera/imu\n",
        "/camera/odom/sample\n",
        "/clock\n",
        "/rosout\n",
        "/rosout_agg"
      ]
    },
    {
      "cell_type": "markdown",
      "metadata": {
        "id": "fVUqt7eBBSeh"
      },
      "source": [
        "As it can be seen, the topic we are looking for is: \" /camera/imu\""
      ]
    },
    {
      "cell_type": "code",
      "execution_count": null,
      "metadata": {
        "id": "L447Pk0NBSeh"
      },
      "outputs": [],
      "source": [
        "# to see the result of imu topic:\n",
        "rosbag play --clock -l race_3.bag    # in its location\n",
        "# In other terminal\n",
        "rostopic echo /camera/imu"
      ]
    },
    {
      "cell_type": "markdown",
      "metadata": {
        "id": "avGcrc4bBSeh"
      },
      "source": [
        "Subscriber code to hear the topic \"/camera/imu\":"
      ]
    },
    {
      "cell_type": "code",
      "execution_count": null,
      "metadata": {
        "id": "6foI9WANBSeh"
      },
      "outputs": [],
      "source": [
        "#! /usr/bin/env python3\n",
        "\n",
        "import rospy\n",
        "from sensor_msgs.msg import Imu\n",
        "import rosgraph\n",
        "\n",
        "def imucallback(msg):\n",
        "    rospy.loginfo(\"I heard %s\", msg.linear_acceleration.x)\n",
        "\n",
        "def find_imu_topic():\n",
        "    master = rosgraph.Master('/rostopic')\n",
        "    try:\n",
        "        topics = master.getTopicTypes()\n",
        "        imu_topics = [t[0] for t in topics if t[1] == 'sensor_msgs/Imu']\n",
        "        return imu_topics\n",
        "    except Exception as e:\n",
        "        rospy.logerr(\"Error getting topics: %s\", e)\n",
        "        return []\n",
        "\n",
        "def listener():\n",
        "    rospy.init_node('listener', anonymous=True)\n",
        "    imu_topics = find_imu_topic()\n",
        "\n",
        "    if not imu_topics:\n",
        "        rospy.logwarn(\"No IMU topics found! Make sure rosbag is playing.\")\n",
        "        return\n",
        "\n",
        "    rospy.loginfo(\"Found IMU topics: %s\", imu_topics)\n",
        "    topic_to_subscribe = imu_topics[0]\n",
        "    rospy.loginfo(\"Subscribing to %s\", topic_to_subscribe)\n",
        "\n",
        "    rospy.Subscriber(topic_to_subscribe, Imu, imucallback)\n",
        "    rospy.spin()\n",
        "\n",
        "if __name__ == '__main__':\n",
        "    listener()\n"
      ]
    },
    {
      "cell_type": "markdown",
      "metadata": {
        "id": "H2fzZxbwBSeh"
      },
      "source": [
        "Make the code executable and run it (after playing the rosbag)"
      ]
    },
    {
      "cell_type": "code",
      "execution_count": null,
      "metadata": {
        "id": "uK7TSlzdBSei"
      },
      "outputs": [],
      "source": [
        "chmod +x MySubscriber.py\n",
        "rosrun sub_sensor MySubscriber.py   # rosrun + Package neme + code's name (mentionning its location if you are in other folder)"
      ]
    },
    {
      "cell_type": "markdown",
      "metadata": {
        "id": "7cQOKuz_BSei"
      },
      "source": [
        "rostopic info /…/Imu\n",
        "با این اطلاعات مربوط به اون تاپیک و مخصوصاً نوعش رو می‌گیریم.\n",
        "که اینجا هست:  sensor_msgs/Imu\n",
        "این چیزیه که باید ایمپورت بشه\n",
        "و همچنین سرچ داکیومنتیشن که بهمون میگه این نوع شامل چه اطلاعاتی خواهد  بود.\n",
        "\n",
        "وقتی قراره یه تاپیکی از این نوع رو استفاده کنیم داکیومنتیشن رو نگاه میکنیم و ایمپورتش هم می‌کنیم.\n",
        "از طرفی راسبگ رو که اجرا کردیم با راستاپیک تاپیک‌هاش رو نگاه میکنیم.\n",
        "اونی که از نوع imu هست رو انتخاب میکنیم و توی بخش اولِ سابسکرابرمون می‌نویسیمش و بخش دومش نوعی که ایمپورت کردیم که اینجا میشه imu\n",
        "\n",
        "حالا ما میتونیم چیزی که سابسکرایب کردیم رو بیایم چاپ کنیم ولی این پابلیش نیست.\n",
        "\n",
        "برای پابلیشر قسمت اول یه اسم خودمون انتخاب می‌کنیم و قرار میدیم ولی برای قسمت دوم نوع پیامی که قراره پابلیش بکنه\n",
        "توی داکیومنتیشن نگاه کردیم\n",
        "مثلاً اینجا پیام‌مون لینیراکسلریشن بود از نوعِ ورتکس\n",
        "این چیزیه که باید تو قسمت ندم نوشته بشه و همچنین ایمپورت بشه\n",
        "\n"
      ]
    },
    {
      "cell_type": "code",
      "execution_count": null,
      "metadata": {
        "id": "Z7V2FC1eBSfE"
      },
      "outputs": [],
      "source": [
        "# after writing the \"publisher\"\n",
        "# First terminal\n",
        "roscore\n",
        "# Second terminal\n",
        "rosbag play --clock -l race_3.bag\n",
        "# Third terminal\n",
        "rosrun sub_sensor MyPublishepy\n",
        "# Fourth terminal\n",
        "ostopic list\n",
        "# Then\n",
        "rostopic echo my_imu_acc_data"
      ]
    },
    {
      "cell_type": "markdown",
      "metadata": {
        "id": "UDhC2_n3BSfE"
      },
      "source": [
        "for each topic listed by \"rostopic list\" we have:\n",
        "rostopic echo \"its ... name\"\n",
        "rostopic info \"its ... name\"\n",
        "\n",
        "if echo worked, it is possible to write a publisher.\n",
        "its type that must be imported is located in its info?\n",
        "if it worked, then write a publisher for parts of its messages in its documentation.\n",
        "Then ruin the publisher and again \"rostopic list\" ...\n"
      ]
    },
    {
      "cell_type": "code",
      "execution_count": null,
      "metadata": {
        "id": "CJ2wSVMlBSfE"
      },
      "outputs": [],
      "source": [
        "rostopic info /camera/fisheye2/image_raw"
      ]
    },
    {
      "cell_type": "markdown",
      "metadata": {
        "id": "MGbv4j_4BSfF"
      },
      "source": [
        "Type: sensor_msgs/Image\n",
        "\n",
        "Publishers:\n",
        " * /play_1755175677197279935 (http://1_xterm:45811/)\n",
        "\n",
        "Subscribers: None"
      ]
    },
    {
      "cell_type": "code",
      "execution_count": null,
      "metadata": {
        "id": "tcbiWtPYBSfF"
      },
      "outputs": [],
      "source": [
        "rosbag info race_3.bag\n",
        "rosbag info unilidar-2023-09-22-12-42-04.bag\n",
        "\n",
        "rosbag play --clock -l race_3.bag\n",
        "rosbag play --clock -l unilidar-2023-09-22-12-42-04.bag\n",
        "\n",
        "rostopic list\n",
        "\n",
        "rostopic echo /unilidar/imu\n",
        "rostopic info /unilidar/imu\n",
        "\n",
        "rostopic echo /unilidar/cloud\n",
        "rostopic info /unilidar/cloud"
      ]
    },
    {
      "cell_type": "markdown",
      "metadata": {
        "id": "Rxl-HjIZBSfF"
      },
      "source": [
        "Check the documentation of:\n",
        "sensor_msgs/PointCloud2\n",
        "\n",
        "and there are some information of the topic in its heaer:\n",
        "std_msgs/Header header\n",
        "\n",
        "To write the subscriber, it needs to be imported:\n",
        "\n",
        "\n",
        "rosrun rviz rviz\n",
        "to visualize data:\n",
        "1. add pointcloud2\n",
        "2. choose /unilidar/cloud as its topic inside its tab\n",
        "3. run: rostopic echo /unilidar/cloud|grep frame_id  (>> result:unilidar_lidar)\n",
        "4. change the \"fix frame\" to whatever the result is (unilidar_lidar)\n"
      ]
    }
  ],
  "metadata": {
    "kernelspec": {
      "display_name": "Python 2",
      "language": "python",
      "name": "python2"
    },
    "language_info": {
      "codemirror_mode": {
        "name": "ipython",
        "version": 2
      },
      "file_extension": ".py",
      "mimetype": "text/x-python",
      "name": "python",
      "nbconvert_exporter": "python",
      "pygments_lexer": "ipython2",
      "version": "2.7.16"
    },
    "colab": {
      "provenance": [],
      "include_colab_link": true
    }
  },
  "nbformat": 4,
  "nbformat_minor": 0
}